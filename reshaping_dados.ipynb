{
 "cells": [
  {
   "cell_type": "code",
   "execution_count": 1,
   "metadata": {},
   "outputs": [],
   "source": [
    "import pandas as pd\n",
    "import numpy as np"
   ]
  },
  {
   "cell_type": "code",
   "execution_count": 2,
   "metadata": {},
   "outputs": [
    {
     "data": {
      "text/html": [
       "<div>\n",
       "<style scoped>\n",
       "    .dataframe tbody tr th:only-of-type {\n",
       "        vertical-align: middle;\n",
       "    }\n",
       "\n",
       "    .dataframe tbody tr th {\n",
       "        vertical-align: top;\n",
       "    }\n",
       "\n",
       "    .dataframe thead th {\n",
       "        text-align: right;\n",
       "    }\n",
       "</style>\n",
       "<table border=\"1\" class=\"dataframe\">\n",
       "  <thead>\n",
       "    <tr style=\"text-align: right;\">\n",
       "      <th></th>\n",
       "      <th>Var_A</th>\n",
       "      <th>Vaer_B</th>\n",
       "      <th>Vaer_C</th>\n",
       "      <th>Var_D</th>\n",
       "    </tr>\n",
       "  </thead>\n",
       "  <tbody>\n",
       "    <tr>\n",
       "      <th>2020-01-01</th>\n",
       "      <td>2.839206</td>\n",
       "      <td>1.592846</td>\n",
       "      <td>8.029852</td>\n",
       "      <td>7.409573</td>\n",
       "    </tr>\n",
       "    <tr>\n",
       "      <th>2020-01-02</th>\n",
       "      <td>6.236051</td>\n",
       "      <td>11.358327</td>\n",
       "      <td>4.467539</td>\n",
       "      <td>3.242231</td>\n",
       "    </tr>\n",
       "    <tr>\n",
       "      <th>2020-01-03</th>\n",
       "      <td>24.918751</td>\n",
       "      <td>2.694771</td>\n",
       "      <td>0.909450</td>\n",
       "      <td>2.864294</td>\n",
       "    </tr>\n",
       "    <tr>\n",
       "      <th>2020-01-04</th>\n",
       "      <td>6.190920</td>\n",
       "      <td>1.865140</td>\n",
       "      <td>11.249445</td>\n",
       "      <td>2.544586</td>\n",
       "    </tr>\n",
       "    <tr>\n",
       "      <th>2020-01-05</th>\n",
       "      <td>12.316566</td>\n",
       "      <td>5.958246</td>\n",
       "      <td>3.795851</td>\n",
       "      <td>4.913782</td>\n",
       "    </tr>\n",
       "    <tr>\n",
       "      <th>2020-01-06</th>\n",
       "      <td>8.426682</td>\n",
       "      <td>3.892012</td>\n",
       "      <td>0.100795</td>\n",
       "      <td>5.133950</td>\n",
       "    </tr>\n",
       "  </tbody>\n",
       "</table>\n",
       "</div>"
      ],
      "text/plain": [
       "                Var_A     Vaer_B     Vaer_C     Var_D\n",
       "2020-01-01   2.839206   1.592846   8.029852  7.409573\n",
       "2020-01-02   6.236051  11.358327   4.467539  3.242231\n",
       "2020-01-03  24.918751   2.694771   0.909450  2.864294\n",
       "2020-01-04   6.190920   1.865140  11.249445  2.544586\n",
       "2020-01-05  12.316566   5.958246   3.795851  4.913782\n",
       "2020-01-06   8.426682   3.892012   0.100795  5.133950"
      ]
     },
     "execution_count": 2,
     "metadata": {},
     "output_type": "execute_result"
    }
   ],
   "source": [
    "datas = pd.date_range('20200101', periods=6)\n",
    "df = pd.DataFrame(abs(np.random.randn(6,4) *10), index=datas, columns=['Var_A','Vaer_B','Vaer_C','Var_D'])\n",
    "df"
   ]
  },
  {
   "cell_type": "code",
   "execution_count": 3,
   "metadata": {},
   "outputs": [
    {
     "data": {
      "text/html": [
       "<div>\n",
       "<style scoped>\n",
       "    .dataframe tbody tr th:only-of-type {\n",
       "        vertical-align: middle;\n",
       "    }\n",
       "\n",
       "    .dataframe tbody tr th {\n",
       "        vertical-align: top;\n",
       "    }\n",
       "\n",
       "    .dataframe thead th {\n",
       "        text-align: right;\n",
       "    }\n",
       "</style>\n",
       "<table border=\"1\" class=\"dataframe\">\n",
       "  <thead>\n",
       "    <tr style=\"text-align: right;\">\n",
       "      <th></th>\n",
       "      <th>2020-01-01</th>\n",
       "      <th>2020-01-02</th>\n",
       "      <th>2020-01-03</th>\n",
       "      <th>2020-01-04</th>\n",
       "      <th>2020-01-05</th>\n",
       "      <th>2020-01-06</th>\n",
       "    </tr>\n",
       "  </thead>\n",
       "  <tbody>\n",
       "    <tr>\n",
       "      <th>Var_A</th>\n",
       "      <td>2.839206</td>\n",
       "      <td>6.236051</td>\n",
       "      <td>24.918751</td>\n",
       "      <td>6.190920</td>\n",
       "      <td>12.316566</td>\n",
       "      <td>8.426682</td>\n",
       "    </tr>\n",
       "    <tr>\n",
       "      <th>Vaer_B</th>\n",
       "      <td>1.592846</td>\n",
       "      <td>11.358327</td>\n",
       "      <td>2.694771</td>\n",
       "      <td>1.865140</td>\n",
       "      <td>5.958246</td>\n",
       "      <td>3.892012</td>\n",
       "    </tr>\n",
       "    <tr>\n",
       "      <th>Vaer_C</th>\n",
       "      <td>8.029852</td>\n",
       "      <td>4.467539</td>\n",
       "      <td>0.909450</td>\n",
       "      <td>11.249445</td>\n",
       "      <td>3.795851</td>\n",
       "      <td>0.100795</td>\n",
       "    </tr>\n",
       "    <tr>\n",
       "      <th>Var_D</th>\n",
       "      <td>7.409573</td>\n",
       "      <td>3.242231</td>\n",
       "      <td>2.864294</td>\n",
       "      <td>2.544586</td>\n",
       "      <td>4.913782</td>\n",
       "      <td>5.133950</td>\n",
       "    </tr>\n",
       "  </tbody>\n",
       "</table>\n",
       "</div>"
      ],
      "text/plain": [
       "        2020-01-01  2020-01-02  2020-01-03  2020-01-04  2020-01-05  2020-01-06\n",
       "Var_A     2.839206    6.236051   24.918751    6.190920   12.316566    8.426682\n",
       "Vaer_B    1.592846   11.358327    2.694771    1.865140    5.958246    3.892012\n",
       "Vaer_C    8.029852    4.467539    0.909450   11.249445    3.795851    0.100795\n",
       "Var_D     7.409573    3.242231    2.864294    2.544586    4.913782    5.133950"
      ]
     },
     "execution_count": 3,
     "metadata": {},
     "output_type": "execute_result"
    }
   ],
   "source": [
    "trans = df.T #Transpose\n",
    "trans"
   ]
  },
  {
   "cell_type": "code",
   "execution_count": 4,
   "metadata": {},
   "outputs": [
    {
     "data": {
      "text/plain": [
       "(4, 6)"
      ]
     },
     "execution_count": 4,
     "metadata": {},
     "output_type": "execute_result"
    }
   ],
   "source": [
    "df.shape\n",
    "trans.shape"
   ]
  },
  {
   "cell_type": "code",
   "execution_count": 5,
   "metadata": {},
   "outputs": [
    {
     "data": {
      "text/plain": [
       "array([[ 2.83920567,  1.59284561,  8.02985246,  7.40957295],\n",
       "       [ 6.23605101, 11.35832668,  4.467539  ,  3.24223056],\n",
       "       [24.91875074,  2.6947711 ,  0.90945026,  2.86429404],\n",
       "       [ 6.19091967,  1.86513988, 11.24944487,  2.54458597],\n",
       "       [12.31656622,  5.95824608,  3.79585099,  4.91378229],\n",
       "       [ 8.42668206,  3.89201242,  0.10079543,  5.13394986]])"
      ]
     },
     "execution_count": 5,
     "metadata": {},
     "output_type": "execute_result"
    }
   ],
   "source": [
    "df.values #vetor"
   ]
  },
  {
   "cell_type": "code",
   "execution_count": 6,
   "metadata": {},
   "outputs": [
    {
     "data": {
      "text/plain": [
       "array([[ 2.83920567,  1.59284561,  8.02985246,  7.40957295,  6.23605101,\n",
       "        11.35832668,  4.467539  ,  3.24223056, 24.91875074,  2.6947711 ,\n",
       "         0.90945026,  2.86429404],\n",
       "       [ 6.19091967,  1.86513988, 11.24944487,  2.54458597, 12.31656622,\n",
       "         5.95824608,  3.79585099,  4.91378229,  8.42668206,  3.89201242,\n",
       "         0.10079543,  5.13394986]])"
      ]
     },
     "execution_count": 6,
     "metadata": {},
     "output_type": "execute_result"
    }
   ],
   "source": [
    "v = df.values\n",
    "v.reshape(2,12)"
   ]
  },
  {
   "cell_type": "code",
   "execution_count": null,
   "metadata": {},
   "outputs": [],
   "source": []
  }
 ],
 "metadata": {
  "kernelspec": {
   "display_name": "Python 3 (ipykernel)",
   "language": "python",
   "name": "python3"
  },
  "language_info": {
   "codemirror_mode": {
    "name": "ipython",
    "version": 3
   },
   "file_extension": ".py",
   "mimetype": "text/x-python",
   "name": "python",
   "nbconvert_exporter": "python",
   "pygments_lexer": "ipython3",
   "version": "3.10.6"
  },
  "orig_nbformat": 4,
  "vscode": {
   "interpreter": {
    "hash": "552e0c2d6d953b5bcb1c9f72630b25aad189f9f2961a55c57625da384cf34b2e"
   }
  }
 },
 "nbformat": 4,
 "nbformat_minor": 2
}
